{
  "nbformat": 4,
  "nbformat_minor": 0,
  "metadata": {
    "colab": {
      "provenance": []
    },
    "kernelspec": {
      "name": "python3",
      "display_name": "Python 3"
    },
    "language_info": {
      "name": "python"
    }
  },
  "cells": [
    {
      "cell_type": "code",
      "execution_count": null,
      "metadata": {
        "id": "Wuknix4gK4Ki"
      },
      "outputs": [],
      "source": [
        "import pandas as pd\n",
        "from sklearn.datasets import load_iris\n",
        "from sklearn.model_selection import train_test_split\n",
        "from sklearn.preprocessing import StandardScaler\n",
        "from tensorflow.keras.models import Sequential\n",
        "from tensorflow.keras.layers import Dense\n",
        "from tensorflow.keras.utils import to_categorical\n",
        "\n",
        "from sklearn.datasets import load_iris\n",
        "from sklearn.preprocessing import OneHotEncoder\n",
        "\n",
        "# Load Iris dataset\n",
        "iris = load_iris()\n",
        "X = iris.data\n",
        "y = iris.target.reshape(-1, 1)\n"
      ]
    },
    {
      "cell_type": "code",
      "source": [
        "from tensorflow.keras.utils import to_categorical\n",
        "\n",
        "y = to_categorical(y)"
      ],
      "metadata": {
        "id": "tQAz5V2CL-ry"
      },
      "execution_count": null,
      "outputs": []
    },
    {
      "cell_type": "code",
      "source": [
        "y.shape"
      ],
      "metadata": {
        "colab": {
          "base_uri": "https://localhost:8080/"
        },
        "id": "7iXXPC-MMAW7",
        "outputId": "08edef74-d46d-4ae2-d647-09de12045006"
      },
      "execution_count": null,
      "outputs": [
        {
          "output_type": "execute_result",
          "data": {
            "text/plain": [
              "(150, 3, 2)"
            ]
          },
          "metadata": {},
          "execution_count": 6
        }
      ]
    },
    {
      "cell_type": "code",
      "source": [
        "data.info()"
      ],
      "metadata": {
        "colab": {
          "base_uri": "https://localhost:8080/"
        },
        "id": "_4KR2Q_TMAnS",
        "outputId": "7a1b6a54-11b3-419c-bb8a-343c1cda8327"
      },
      "execution_count": null,
      "outputs": [
        {
          "output_type": "stream",
          "name": "stdout",
          "text": [
            "<class 'pandas.core.frame.DataFrame'>\n",
            "RangeIndex: 150 entries, 0 to 149\n",
            "Data columns (total 5 columns):\n",
            " #   Column             Non-Null Count  Dtype  \n",
            "---  ------             --------------  -----  \n",
            " 0   sepal length (cm)  150 non-null    float64\n",
            " 1   sepal width (cm)   150 non-null    float64\n",
            " 2   petal length (cm)  150 non-null    float64\n",
            " 3   petal width (cm)   150 non-null    float64\n",
            " 4   species            150 non-null    int64  \n",
            "dtypes: float64(4), int64(1)\n",
            "memory usage: 6.0 KB\n"
          ]
        }
      ]
    },
    {
      "cell_type": "code",
      "source": [
        "data.head()"
      ],
      "metadata": {
        "colab": {
          "base_uri": "https://localhost:8080/",
          "height": 206
        },
        "id": "IOQLJ3nUMB-V",
        "outputId": "38450ca3-e043-4d5b-d85a-4286845c5f75"
      },
      "execution_count": null,
      "outputs": [
        {
          "output_type": "execute_result",
          "data": {
            "text/plain": [
              "   sepal length (cm)  sepal width (cm)  petal length (cm)  petal width (cm)  \\\n",
              "0                5.1               3.5                1.4               0.2   \n",
              "1                4.9               3.0                1.4               0.2   \n",
              "2                4.7               3.2                1.3               0.2   \n",
              "3                4.6               3.1                1.5               0.2   \n",
              "4                5.0               3.6                1.4               0.2   \n",
              "\n",
              "   species  \n",
              "0        0  \n",
              "1        0  \n",
              "2        0  \n",
              "3        0  \n",
              "4        0  "
            ],
            "text/html": [
              "\n",
              "  <div id=\"df-45e80586-1ba6-411d-8f05-527da8821337\" class=\"colab-df-container\">\n",
              "    <div>\n",
              "<style scoped>\n",
              "    .dataframe tbody tr th:only-of-type {\n",
              "        vertical-align: middle;\n",
              "    }\n",
              "\n",
              "    .dataframe tbody tr th {\n",
              "        vertical-align: top;\n",
              "    }\n",
              "\n",
              "    .dataframe thead th {\n",
              "        text-align: right;\n",
              "    }\n",
              "</style>\n",
              "<table border=\"1\" class=\"dataframe\">\n",
              "  <thead>\n",
              "    <tr style=\"text-align: right;\">\n",
              "      <th></th>\n",
              "      <th>sepal length (cm)</th>\n",
              "      <th>sepal width (cm)</th>\n",
              "      <th>petal length (cm)</th>\n",
              "      <th>petal width (cm)</th>\n",
              "      <th>species</th>\n",
              "    </tr>\n",
              "  </thead>\n",
              "  <tbody>\n",
              "    <tr>\n",
              "      <th>0</th>\n",
              "      <td>5.1</td>\n",
              "      <td>3.5</td>\n",
              "      <td>1.4</td>\n",
              "      <td>0.2</td>\n",
              "      <td>0</td>\n",
              "    </tr>\n",
              "    <tr>\n",
              "      <th>1</th>\n",
              "      <td>4.9</td>\n",
              "      <td>3.0</td>\n",
              "      <td>1.4</td>\n",
              "      <td>0.2</td>\n",
              "      <td>0</td>\n",
              "    </tr>\n",
              "    <tr>\n",
              "      <th>2</th>\n",
              "      <td>4.7</td>\n",
              "      <td>3.2</td>\n",
              "      <td>1.3</td>\n",
              "      <td>0.2</td>\n",
              "      <td>0</td>\n",
              "    </tr>\n",
              "    <tr>\n",
              "      <th>3</th>\n",
              "      <td>4.6</td>\n",
              "      <td>3.1</td>\n",
              "      <td>1.5</td>\n",
              "      <td>0.2</td>\n",
              "      <td>0</td>\n",
              "    </tr>\n",
              "    <tr>\n",
              "      <th>4</th>\n",
              "      <td>5.0</td>\n",
              "      <td>3.6</td>\n",
              "      <td>1.4</td>\n",
              "      <td>0.2</td>\n",
              "      <td>0</td>\n",
              "    </tr>\n",
              "  </tbody>\n",
              "</table>\n",
              "</div>\n",
              "    <div class=\"colab-df-buttons\">\n",
              "\n",
              "  <div class=\"colab-df-container\">\n",
              "    <button class=\"colab-df-convert\" onclick=\"convertToInteractive('df-45e80586-1ba6-411d-8f05-527da8821337')\"\n",
              "            title=\"Convert this dataframe to an interactive table.\"\n",
              "            style=\"display:none;\">\n",
              "\n",
              "  <svg xmlns=\"http://www.w3.org/2000/svg\" height=\"24px\" viewBox=\"0 -960 960 960\">\n",
              "    <path d=\"M120-120v-720h720v720H120Zm60-500h600v-160H180v160Zm220 220h160v-160H400v160Zm0 220h160v-160H400v160ZM180-400h160v-160H180v160Zm440 0h160v-160H620v160ZM180-180h160v-160H180v160Zm440 0h160v-160H620v160Z\"/>\n",
              "  </svg>\n",
              "    </button>\n",
              "\n",
              "  <style>\n",
              "    .colab-df-container {\n",
              "      display:flex;\n",
              "      gap: 12px;\n",
              "    }\n",
              "\n",
              "    .colab-df-convert {\n",
              "      background-color: #E8F0FE;\n",
              "      border: none;\n",
              "      border-radius: 50%;\n",
              "      cursor: pointer;\n",
              "      display: none;\n",
              "      fill: #1967D2;\n",
              "      height: 32px;\n",
              "      padding: 0 0 0 0;\n",
              "      width: 32px;\n",
              "    }\n",
              "\n",
              "    .colab-df-convert:hover {\n",
              "      background-color: #E2EBFA;\n",
              "      box-shadow: 0px 1px 2px rgba(60, 64, 67, 0.3), 0px 1px 3px 1px rgba(60, 64, 67, 0.15);\n",
              "      fill: #174EA6;\n",
              "    }\n",
              "\n",
              "    .colab-df-buttons div {\n",
              "      margin-bottom: 4px;\n",
              "    }\n",
              "\n",
              "    [theme=dark] .colab-df-convert {\n",
              "      background-color: #3B4455;\n",
              "      fill: #D2E3FC;\n",
              "    }\n",
              "\n",
              "    [theme=dark] .colab-df-convert:hover {\n",
              "      background-color: #434B5C;\n",
              "      box-shadow: 0px 1px 3px 1px rgba(0, 0, 0, 0.15);\n",
              "      filter: drop-shadow(0px 1px 2px rgba(0, 0, 0, 0.3));\n",
              "      fill: #FFFFFF;\n",
              "    }\n",
              "  </style>\n",
              "\n",
              "    <script>\n",
              "      const buttonEl =\n",
              "        document.querySelector('#df-45e80586-1ba6-411d-8f05-527da8821337 button.colab-df-convert');\n",
              "      buttonEl.style.display =\n",
              "        google.colab.kernel.accessAllowed ? 'block' : 'none';\n",
              "\n",
              "      async function convertToInteractive(key) {\n",
              "        const element = document.querySelector('#df-45e80586-1ba6-411d-8f05-527da8821337');\n",
              "        const dataTable =\n",
              "          await google.colab.kernel.invokeFunction('convertToInteractive',\n",
              "                                                    [key], {});\n",
              "        if (!dataTable) return;\n",
              "\n",
              "        const docLinkHtml = 'Like what you see? Visit the ' +\n",
              "          '<a target=\"_blank\" href=https://colab.research.google.com/notebooks/data_table.ipynb>data table notebook</a>'\n",
              "          + ' to learn more about interactive tables.';\n",
              "        element.innerHTML = '';\n",
              "        dataTable['output_type'] = 'display_data';\n",
              "        await google.colab.output.renderOutput(dataTable, element);\n",
              "        const docLink = document.createElement('div');\n",
              "        docLink.innerHTML = docLinkHtml;\n",
              "        element.appendChild(docLink);\n",
              "      }\n",
              "    </script>\n",
              "  </div>\n",
              "\n",
              "\n",
              "<div id=\"df-de1ec59c-8268-408c-b7db-2a20bac4e002\">\n",
              "  <button class=\"colab-df-quickchart\" onclick=\"quickchart('df-de1ec59c-8268-408c-b7db-2a20bac4e002')\"\n",
              "            title=\"Suggest charts\"\n",
              "            style=\"display:none;\">\n",
              "\n",
              "<svg xmlns=\"http://www.w3.org/2000/svg\" height=\"24px\"viewBox=\"0 0 24 24\"\n",
              "     width=\"24px\">\n",
              "    <g>\n",
              "        <path d=\"M19 3H5c-1.1 0-2 .9-2 2v14c0 1.1.9 2 2 2h14c1.1 0 2-.9 2-2V5c0-1.1-.9-2-2-2zM9 17H7v-7h2v7zm4 0h-2V7h2v10zm4 0h-2v-4h2v4z\"/>\n",
              "    </g>\n",
              "</svg>\n",
              "  </button>\n",
              "\n",
              "<style>\n",
              "  .colab-df-quickchart {\n",
              "      --bg-color: #E8F0FE;\n",
              "      --fill-color: #1967D2;\n",
              "      --hover-bg-color: #E2EBFA;\n",
              "      --hover-fill-color: #174EA6;\n",
              "      --disabled-fill-color: #AAA;\n",
              "      --disabled-bg-color: #DDD;\n",
              "  }\n",
              "\n",
              "  [theme=dark] .colab-df-quickchart {\n",
              "      --bg-color: #3B4455;\n",
              "      --fill-color: #D2E3FC;\n",
              "      --hover-bg-color: #434B5C;\n",
              "      --hover-fill-color: #FFFFFF;\n",
              "      --disabled-bg-color: #3B4455;\n",
              "      --disabled-fill-color: #666;\n",
              "  }\n",
              "\n",
              "  .colab-df-quickchart {\n",
              "    background-color: var(--bg-color);\n",
              "    border: none;\n",
              "    border-radius: 50%;\n",
              "    cursor: pointer;\n",
              "    display: none;\n",
              "    fill: var(--fill-color);\n",
              "    height: 32px;\n",
              "    padding: 0;\n",
              "    width: 32px;\n",
              "  }\n",
              "\n",
              "  .colab-df-quickchart:hover {\n",
              "    background-color: var(--hover-bg-color);\n",
              "    box-shadow: 0 1px 2px rgba(60, 64, 67, 0.3), 0 1px 3px 1px rgba(60, 64, 67, 0.15);\n",
              "    fill: var(--button-hover-fill-color);\n",
              "  }\n",
              "\n",
              "  .colab-df-quickchart-complete:disabled,\n",
              "  .colab-df-quickchart-complete:disabled:hover {\n",
              "    background-color: var(--disabled-bg-color);\n",
              "    fill: var(--disabled-fill-color);\n",
              "    box-shadow: none;\n",
              "  }\n",
              "\n",
              "  .colab-df-spinner {\n",
              "    border: 2px solid var(--fill-color);\n",
              "    border-color: transparent;\n",
              "    border-bottom-color: var(--fill-color);\n",
              "    animation:\n",
              "      spin 1s steps(1) infinite;\n",
              "  }\n",
              "\n",
              "  @keyframes spin {\n",
              "    0% {\n",
              "      border-color: transparent;\n",
              "      border-bottom-color: var(--fill-color);\n",
              "      border-left-color: var(--fill-color);\n",
              "    }\n",
              "    20% {\n",
              "      border-color: transparent;\n",
              "      border-left-color: var(--fill-color);\n",
              "      border-top-color: var(--fill-color);\n",
              "    }\n",
              "    30% {\n",
              "      border-color: transparent;\n",
              "      border-left-color: var(--fill-color);\n",
              "      border-top-color: var(--fill-color);\n",
              "      border-right-color: var(--fill-color);\n",
              "    }\n",
              "    40% {\n",
              "      border-color: transparent;\n",
              "      border-right-color: var(--fill-color);\n",
              "      border-top-color: var(--fill-color);\n",
              "    }\n",
              "    60% {\n",
              "      border-color: transparent;\n",
              "      border-right-color: var(--fill-color);\n",
              "    }\n",
              "    80% {\n",
              "      border-color: transparent;\n",
              "      border-right-color: var(--fill-color);\n",
              "      border-bottom-color: var(--fill-color);\n",
              "    }\n",
              "    90% {\n",
              "      border-color: transparent;\n",
              "      border-bottom-color: var(--fill-color);\n",
              "    }\n",
              "  }\n",
              "</style>\n",
              "\n",
              "  <script>\n",
              "    async function quickchart(key) {\n",
              "      const quickchartButtonEl =\n",
              "        document.querySelector('#' + key + ' button');\n",
              "      quickchartButtonEl.disabled = true;  // To prevent multiple clicks.\n",
              "      quickchartButtonEl.classList.add('colab-df-spinner');\n",
              "      try {\n",
              "        const charts = await google.colab.kernel.invokeFunction(\n",
              "            'suggestCharts', [key], {});\n",
              "      } catch (error) {\n",
              "        console.error('Error during call to suggestCharts:', error);\n",
              "      }\n",
              "      quickchartButtonEl.classList.remove('colab-df-spinner');\n",
              "      quickchartButtonEl.classList.add('colab-df-quickchart-complete');\n",
              "    }\n",
              "    (() => {\n",
              "      let quickchartButtonEl =\n",
              "        document.querySelector('#df-de1ec59c-8268-408c-b7db-2a20bac4e002 button');\n",
              "      quickchartButtonEl.style.display =\n",
              "        google.colab.kernel.accessAllowed ? 'block' : 'none';\n",
              "    })();\n",
              "  </script>\n",
              "</div>\n",
              "\n",
              "    </div>\n",
              "  </div>\n"
            ],
            "application/vnd.google.colaboratory.intrinsic+json": {
              "type": "dataframe",
              "variable_name": "data",
              "summary": "{\n  \"name\": \"data\",\n  \"rows\": 150,\n  \"fields\": [\n    {\n      \"column\": \"sepal length (cm)\",\n      \"properties\": {\n        \"dtype\": \"number\",\n        \"std\": 0.828066127977863,\n        \"min\": 4.3,\n        \"max\": 7.9,\n        \"num_unique_values\": 35,\n        \"samples\": [\n          6.2,\n          4.5,\n          5.6\n        ],\n        \"semantic_type\": \"\",\n        \"description\": \"\"\n      }\n    },\n    {\n      \"column\": \"sepal width (cm)\",\n      \"properties\": {\n        \"dtype\": \"number\",\n        \"std\": 0.4358662849366982,\n        \"min\": 2.0,\n        \"max\": 4.4,\n        \"num_unique_values\": 23,\n        \"samples\": [\n          2.3,\n          4.0,\n          3.5\n        ],\n        \"semantic_type\": \"\",\n        \"description\": \"\"\n      }\n    },\n    {\n      \"column\": \"petal length (cm)\",\n      \"properties\": {\n        \"dtype\": \"number\",\n        \"std\": 1.7652982332594662,\n        \"min\": 1.0,\n        \"max\": 6.9,\n        \"num_unique_values\": 43,\n        \"samples\": [\n          6.7,\n          3.8,\n          3.7\n        ],\n        \"semantic_type\": \"\",\n        \"description\": \"\"\n      }\n    },\n    {\n      \"column\": \"petal width (cm)\",\n      \"properties\": {\n        \"dtype\": \"number\",\n        \"std\": 0.7622376689603465,\n        \"min\": 0.1,\n        \"max\": 2.5,\n        \"num_unique_values\": 22,\n        \"samples\": [\n          0.2,\n          1.2,\n          1.3\n        ],\n        \"semantic_type\": \"\",\n        \"description\": \"\"\n      }\n    },\n    {\n      \"column\": \"species\",\n      \"properties\": {\n        \"dtype\": \"number\",\n        \"std\": 0,\n        \"min\": 0,\n        \"max\": 2,\n        \"num_unique_values\": 3,\n        \"samples\": [\n          0,\n          1,\n          2\n        ],\n        \"semantic_type\": \"\",\n        \"description\": \"\"\n      }\n    }\n  ]\n}"
            }
          },
          "metadata": {},
          "execution_count": 11
        }
      ]
    },
    {
      "cell_type": "code",
      "source": [
        "from sklearn.preprocessing import LabelEncoder # not needed as well\n",
        "le=LabelEncoder()\n",
        "data['species']=le.fit_transform(data['species'])"
      ],
      "metadata": {
        "id": "My_WoGlyMLYq"
      },
      "execution_count": null,
      "outputs": []
    },
    {
      "cell_type": "code",
      "source": [
        "data['species'].unique()"
      ],
      "metadata": {
        "colab": {
          "base_uri": "https://localhost:8080/"
        },
        "id": "P_UQM0tdMaiv",
        "outputId": "792ca597-f5b8-42cb-f8a5-3a6b219eae9a"
      },
      "execution_count": null,
      "outputs": [
        {
          "output_type": "execute_result",
          "data": {
            "text/plain": [
              "array([0, 1, 2])"
            ]
          },
          "metadata": {},
          "execution_count": 13
        }
      ]
    },
    {
      "cell_type": "code",
      "source": [
        "data.isna().sum()"
      ],
      "metadata": {
        "colab": {
          "base_uri": "https://localhost:8080/"
        },
        "id": "E1TpkrYzMdK4",
        "outputId": "ecbea1e8-c39e-44c5-c488-3b8ffad17e29"
      },
      "execution_count": null,
      "outputs": [
        {
          "output_type": "execute_result",
          "data": {
            "text/plain": [
              "sepal length (cm)    0\n",
              "sepal width (cm)     0\n",
              "petal length (cm)    0\n",
              "petal width (cm)     0\n",
              "species              0\n",
              "dtype: int64"
            ]
          },
          "metadata": {},
          "execution_count": 19
        }
      ]
    },
    {
      "cell_type": "markdown",
      "source": [],
      "metadata": {
        "id": "9yBkMs9bMqxQ"
      }
    },
    {
      "cell_type": "code",
      "source": [
        "X=data.drop(['species'],axis=1).values\n",
        "y=data['species'].values"
      ],
      "metadata": {
        "id": "m8UB5KhBNecO"
      },
      "execution_count": null,
      "outputs": []
    },
    {
      "cell_type": "code",
      "source": [
        "from sklearn.model_selection import train_test_split\n",
        "train_X, test_X, train_y, test_y = train_test_split(X, y, test_size=0.2, random_state=42)\n"
      ],
      "metadata": {
        "id": "bGnwSl4PNid8"
      },
      "execution_count": null,
      "outputs": []
    },
    {
      "cell_type": "code",
      "source": [
        "#fearture scaling  # not needed\n",
        "from sklearn.preprocessing import StandardScaler\n",
        "scaler = StandardScaler()\n",
        "train_X = scaler.fit_transform(train_X)\n",
        "test_X = scaler.transform(test_X)"
      ],
      "metadata": {
        "id": "vtD1YOItNj7G"
      },
      "execution_count": null,
      "outputs": []
    },
    {
      "cell_type": "code",
      "source": [
        "train_y = to_categorical(train_y, num_classes=3)\n",
        "test_y = to_categorical(test_y, num_classes=3)\n"
      ],
      "metadata": {
        "id": "fHd-plNPOfY3"
      },
      "execution_count": null,
      "outputs": []
    },
    {
      "cell_type": "code",
      "source": [
        "from tensorflow.keras.models import Sequential\n",
        "from tensorflow.keras.layers import Dense"
      ],
      "metadata": {
        "id": "6yfk5Y03NlLl"
      },
      "execution_count": null,
      "outputs": []
    },
    {
      "cell_type": "code",
      "source": [
        "# Build the neural network model\n",
        "model = Sequential()\n",
        "model.add(Dense(50, activation='relu', input_shape=(train_X.shape[1],)))\n",
        "model.add(Dense(30, activation='relu'))\n",
        "model.add(Dense(3, activation='softmax'))\n",
        "model.summary()"
      ],
      "metadata": {
        "colab": {
          "base_uri": "https://localhost:8080/"
        },
        "id": "6bU6khbANmYn",
        "outputId": "102a6041-ea1c-4aaa-9e09-3ff5c1ced1b9"
      },
      "execution_count": null,
      "outputs": [
        {
          "output_type": "stream",
          "name": "stdout",
          "text": [
            "Model: \"sequential_2\"\n",
            "_________________________________________________________________\n",
            " Layer (type)                Output Shape              Param #   \n",
            "=================================================================\n",
            " dense_6 (Dense)             (None, 50)                250       \n",
            "                                                                 \n",
            " dense_7 (Dense)             (None, 30)                1530      \n",
            "                                                                 \n",
            " dense_8 (Dense)             (None, 3)                 93        \n",
            "                                                                 \n",
            "=================================================================\n",
            "Total params: 1873 (7.32 KB)\n",
            "Trainable params: 1873 (7.32 KB)\n",
            "Non-trainable params: 0 (0.00 Byte)\n",
            "_________________________________________________________________\n"
          ]
        }
      ]
    },
    {
      "cell_type": "code",
      "source": [
        "model.compile(optimizer='SGD', loss='categorical_crossentropy', metrics=['accuracy']) # can be replaced manually\n"
      ],
      "metadata": {
        "id": "Q8TPjxXmNnfx"
      },
      "execution_count": null,
      "outputs": []
    },
    {
      "cell_type": "code",
      "source": [
        "from keras.callbacks import EarlyStopping # batch size dec.\n",
        "early_stopping = EarlyStopping(monitor='val_loss', patience=3, restore_best_weights=True)\n",
        "history = model.fit(train_X, train_y, validation_split=0.1, batch_size=32, epochs=100, callbacks=[early_stopping])"
      ],
      "metadata": {
        "colab": {
          "base_uri": "https://localhost:8080/"
        },
        "id": "fZQyGRAiNp4d",
        "outputId": "2c1ce5cd-78bb-4dca-eaa3-5e273fec13d0"
      },
      "execution_count": null,
      "outputs": [
        {
          "output_type": "stream",
          "name": "stdout",
          "text": [
            "Epoch 1/100\n",
            "4/4 [==============================] - 1s 235ms/step - loss: 0.8864 - accuracy: 0.5000 - val_loss: 0.9990 - val_accuracy: 0.2500\n",
            "Epoch 2/100\n",
            "4/4 [==============================] - 0s 59ms/step - loss: 0.8615 - accuracy: 0.5093 - val_loss: 0.9781 - val_accuracy: 0.2500\n",
            "Epoch 3/100\n",
            "4/4 [==============================] - 0s 66ms/step - loss: 0.8385 - accuracy: 0.5185 - val_loss: 0.9600 - val_accuracy: 0.2500\n",
            "Epoch 4/100\n",
            "4/4 [==============================] - 0s 48ms/step - loss: 0.8181 - accuracy: 0.5278 - val_loss: 0.9412 - val_accuracy: 0.3333\n",
            "Epoch 5/100\n",
            "4/4 [==============================] - 0s 39ms/step - loss: 0.7990 - accuracy: 0.5463 - val_loss: 0.9256 - val_accuracy: 0.3333\n",
            "Epoch 6/100\n",
            "4/4 [==============================] - 0s 74ms/step - loss: 0.7809 - accuracy: 0.5278 - val_loss: 0.9116 - val_accuracy: 0.3333\n",
            "Epoch 7/100\n",
            "4/4 [==============================] - 0s 63ms/step - loss: 0.7653 - accuracy: 0.5741 - val_loss: 0.8989 - val_accuracy: 0.3333\n",
            "Epoch 8/100\n",
            "4/4 [==============================] - 0s 89ms/step - loss: 0.7507 - accuracy: 0.6111 - val_loss: 0.8863 - val_accuracy: 0.4167\n",
            "Epoch 9/100\n",
            "4/4 [==============================] - 0s 48ms/step - loss: 0.7365 - accuracy: 0.6111 - val_loss: 0.8737 - val_accuracy: 0.5000\n",
            "Epoch 10/100\n",
            "4/4 [==============================] - 0s 43ms/step - loss: 0.7225 - accuracy: 0.6019 - val_loss: 0.8616 - val_accuracy: 0.5833\n",
            "Epoch 11/100\n",
            "4/4 [==============================] - 0s 71ms/step - loss: 0.7101 - accuracy: 0.6389 - val_loss: 0.8495 - val_accuracy: 0.5833\n",
            "Epoch 12/100\n",
            "4/4 [==============================] - 0s 76ms/step - loss: 0.6977 - accuracy: 0.6944 - val_loss: 0.8370 - val_accuracy: 0.5833\n",
            "Epoch 13/100\n",
            "4/4 [==============================] - 0s 73ms/step - loss: 0.6856 - accuracy: 0.7037 - val_loss: 0.8258 - val_accuracy: 0.5833\n",
            "Epoch 14/100\n",
            "4/4 [==============================] - 0s 55ms/step - loss: 0.6742 - accuracy: 0.7315 - val_loss: 0.8144 - val_accuracy: 0.5833\n",
            "Epoch 15/100\n",
            "4/4 [==============================] - 0s 69ms/step - loss: 0.6633 - accuracy: 0.7407 - val_loss: 0.8032 - val_accuracy: 0.5833\n",
            "Epoch 16/100\n",
            "4/4 [==============================] - 0s 69ms/step - loss: 0.6528 - accuracy: 0.7315 - val_loss: 0.7930 - val_accuracy: 0.5833\n",
            "Epoch 17/100\n",
            "4/4 [==============================] - 0s 43ms/step - loss: 0.6431 - accuracy: 0.7685 - val_loss: 0.7825 - val_accuracy: 0.5833\n",
            "Epoch 18/100\n",
            "4/4 [==============================] - 0s 55ms/step - loss: 0.6327 - accuracy: 0.7778 - val_loss: 0.7723 - val_accuracy: 0.5833\n",
            "Epoch 19/100\n",
            "4/4 [==============================] - 0s 41ms/step - loss: 0.6230 - accuracy: 0.7870 - val_loss: 0.7627 - val_accuracy: 0.5833\n",
            "Epoch 20/100\n",
            "4/4 [==============================] - 0s 66ms/step - loss: 0.6136 - accuracy: 0.7870 - val_loss: 0.7523 - val_accuracy: 0.6667\n",
            "Epoch 21/100\n",
            "4/4 [==============================] - 0s 61ms/step - loss: 0.6037 - accuracy: 0.8056 - val_loss: 0.7429 - val_accuracy: 0.6667\n",
            "Epoch 22/100\n",
            "4/4 [==============================] - 0s 60ms/step - loss: 0.5951 - accuracy: 0.8148 - val_loss: 0.7339 - val_accuracy: 0.8333\n",
            "Epoch 23/100\n",
            "4/4 [==============================] - 0s 63ms/step - loss: 0.5864 - accuracy: 0.8333 - val_loss: 0.7249 - val_accuracy: 0.8333\n",
            "Epoch 24/100\n",
            "4/4 [==============================] - 0s 59ms/step - loss: 0.5781 - accuracy: 0.8333 - val_loss: 0.7149 - val_accuracy: 0.8333\n",
            "Epoch 25/100\n",
            "4/4 [==============================] - 0s 75ms/step - loss: 0.5695 - accuracy: 0.8333 - val_loss: 0.7055 - val_accuracy: 0.8333\n",
            "Epoch 26/100\n",
            "4/4 [==============================] - 0s 71ms/step - loss: 0.5609 - accuracy: 0.8333 - val_loss: 0.6973 - val_accuracy: 0.8333\n",
            "Epoch 27/100\n",
            "4/4 [==============================] - 0s 56ms/step - loss: 0.5529 - accuracy: 0.8333 - val_loss: 0.6883 - val_accuracy: 0.8333\n",
            "Epoch 28/100\n",
            "4/4 [==============================] - 0s 36ms/step - loss: 0.5444 - accuracy: 0.8333 - val_loss: 0.6800 - val_accuracy: 0.8333\n",
            "Epoch 29/100\n",
            "4/4 [==============================] - 0s 55ms/step - loss: 0.5368 - accuracy: 0.8333 - val_loss: 0.6725 - val_accuracy: 0.8333\n",
            "Epoch 30/100\n",
            "4/4 [==============================] - 0s 29ms/step - loss: 0.5296 - accuracy: 0.8333 - val_loss: 0.6642 - val_accuracy: 0.8333\n",
            "Epoch 31/100\n",
            "4/4 [==============================] - 0s 46ms/step - loss: 0.5219 - accuracy: 0.8333 - val_loss: 0.6576 - val_accuracy: 0.8333\n",
            "Epoch 32/100\n",
            "4/4 [==============================] - 0s 62ms/step - loss: 0.5158 - accuracy: 0.8333 - val_loss: 0.6504 - val_accuracy: 0.8333\n",
            "Epoch 33/100\n",
            "4/4 [==============================] - 0s 54ms/step - loss: 0.5085 - accuracy: 0.8333 - val_loss: 0.6435 - val_accuracy: 0.8333\n",
            "Epoch 34/100\n",
            "4/4 [==============================] - 0s 26ms/step - loss: 0.5020 - accuracy: 0.8333 - val_loss: 0.6364 - val_accuracy: 0.8333\n",
            "Epoch 35/100\n",
            "4/4 [==============================] - 0s 43ms/step - loss: 0.4959 - accuracy: 0.8333 - val_loss: 0.6301 - val_accuracy: 0.8333\n",
            "Epoch 36/100\n",
            "4/4 [==============================] - 0s 49ms/step - loss: 0.4897 - accuracy: 0.8333 - val_loss: 0.6239 - val_accuracy: 0.8333\n",
            "Epoch 37/100\n",
            "4/4 [==============================] - 0s 28ms/step - loss: 0.4837 - accuracy: 0.8426 - val_loss: 0.6174 - val_accuracy: 0.8333\n",
            "Epoch 38/100\n",
            "4/4 [==============================] - 0s 27ms/step - loss: 0.4781 - accuracy: 0.8426 - val_loss: 0.6115 - val_accuracy: 0.8333\n",
            "Epoch 39/100\n",
            "4/4 [==============================] - 0s 27ms/step - loss: 0.4720 - accuracy: 0.8426 - val_loss: 0.6055 - val_accuracy: 0.7500\n",
            "Epoch 40/100\n",
            "4/4 [==============================] - 0s 27ms/step - loss: 0.4665 - accuracy: 0.8426 - val_loss: 0.5993 - val_accuracy: 0.7500\n",
            "Epoch 41/100\n",
            "4/4 [==============================] - 0s 42ms/step - loss: 0.4609 - accuracy: 0.8426 - val_loss: 0.5936 - val_accuracy: 0.8333\n",
            "Epoch 42/100\n",
            "4/4 [==============================] - 0s 23ms/step - loss: 0.4557 - accuracy: 0.8426 - val_loss: 0.5885 - val_accuracy: 0.7500\n",
            "Epoch 43/100\n",
            "4/4 [==============================] - 0s 21ms/step - loss: 0.4507 - accuracy: 0.8426 - val_loss: 0.5835 - val_accuracy: 0.8333\n",
            "Epoch 44/100\n",
            "4/4 [==============================] - 0s 29ms/step - loss: 0.4458 - accuracy: 0.8426 - val_loss: 0.5782 - val_accuracy: 0.8333\n",
            "Epoch 45/100\n",
            "4/4 [==============================] - 0s 27ms/step - loss: 0.4414 - accuracy: 0.8426 - val_loss: 0.5735 - val_accuracy: 0.8333\n",
            "Epoch 46/100\n",
            "4/4 [==============================] - 0s 30ms/step - loss: 0.4364 - accuracy: 0.8426 - val_loss: 0.5684 - val_accuracy: 0.9167\n",
            "Epoch 47/100\n",
            "4/4 [==============================] - 0s 25ms/step - loss: 0.4320 - accuracy: 0.8426 - val_loss: 0.5641 - val_accuracy: 0.9167\n",
            "Epoch 48/100\n",
            "4/4 [==============================] - 0s 28ms/step - loss: 0.4272 - accuracy: 0.8519 - val_loss: 0.5597 - val_accuracy: 0.9167\n",
            "Epoch 49/100\n",
            "4/4 [==============================] - 0s 37ms/step - loss: 0.4229 - accuracy: 0.8519 - val_loss: 0.5555 - val_accuracy: 0.9167\n",
            "Epoch 50/100\n",
            "4/4 [==============================] - 0s 50ms/step - loss: 0.4190 - accuracy: 0.8519 - val_loss: 0.5515 - val_accuracy: 0.9167\n",
            "Epoch 51/100\n",
            "4/4 [==============================] - 0s 26ms/step - loss: 0.4144 - accuracy: 0.8519 - val_loss: 0.5465 - val_accuracy: 0.9167\n",
            "Epoch 52/100\n",
            "4/4 [==============================] - 0s 27ms/step - loss: 0.4102 - accuracy: 0.8519 - val_loss: 0.5426 - val_accuracy: 0.9167\n",
            "Epoch 53/100\n",
            "4/4 [==============================] - 0s 26ms/step - loss: 0.4059 - accuracy: 0.8519 - val_loss: 0.5386 - val_accuracy: 0.9167\n",
            "Epoch 54/100\n",
            "4/4 [==============================] - 0s 29ms/step - loss: 0.4020 - accuracy: 0.8519 - val_loss: 0.5345 - val_accuracy: 0.9167\n",
            "Epoch 55/100\n",
            "4/4 [==============================] - 0s 27ms/step - loss: 0.3980 - accuracy: 0.8519 - val_loss: 0.5308 - val_accuracy: 0.9167\n",
            "Epoch 56/100\n",
            "4/4 [==============================] - 0s 27ms/step - loss: 0.3945 - accuracy: 0.8519 - val_loss: 0.5271 - val_accuracy: 0.9167\n",
            "Epoch 57/100\n",
            "4/4 [==============================] - 0s 27ms/step - loss: 0.3901 - accuracy: 0.8519 - val_loss: 0.5240 - val_accuracy: 0.9167\n",
            "Epoch 58/100\n",
            "4/4 [==============================] - 0s 29ms/step - loss: 0.3866 - accuracy: 0.8519 - val_loss: 0.5202 - val_accuracy: 0.9167\n",
            "Epoch 59/100\n",
            "4/4 [==============================] - 0s 25ms/step - loss: 0.3831 - accuracy: 0.8611 - val_loss: 0.5170 - val_accuracy: 0.9167\n",
            "Epoch 60/100\n",
            "4/4 [==============================] - 0s 23ms/step - loss: 0.3793 - accuracy: 0.8611 - val_loss: 0.5143 - val_accuracy: 0.9167\n",
            "Epoch 61/100\n",
            "4/4 [==============================] - 0s 21ms/step - loss: 0.3760 - accuracy: 0.8611 - val_loss: 0.5107 - val_accuracy: 0.9167\n",
            "Epoch 62/100\n",
            "4/4 [==============================] - 0s 26ms/step - loss: 0.3726 - accuracy: 0.8611 - val_loss: 0.5073 - val_accuracy: 0.9167\n",
            "Epoch 63/100\n",
            "4/4 [==============================] - 0s 23ms/step - loss: 0.3690 - accuracy: 0.8611 - val_loss: 0.5036 - val_accuracy: 0.9167\n",
            "Epoch 64/100\n",
            "4/4 [==============================] - 0s 23ms/step - loss: 0.3655 - accuracy: 0.8611 - val_loss: 0.5007 - val_accuracy: 0.9167\n",
            "Epoch 65/100\n",
            "4/4 [==============================] - 0s 22ms/step - loss: 0.3623 - accuracy: 0.8704 - val_loss: 0.4980 - val_accuracy: 0.9167\n",
            "Epoch 66/100\n",
            "4/4 [==============================] - 0s 28ms/step - loss: 0.3591 - accuracy: 0.8704 - val_loss: 0.4949 - val_accuracy: 0.9167\n",
            "Epoch 67/100\n",
            "4/4 [==============================] - 0s 28ms/step - loss: 0.3556 - accuracy: 0.8704 - val_loss: 0.4915 - val_accuracy: 0.9167\n",
            "Epoch 68/100\n",
            "4/4 [==============================] - 0s 20ms/step - loss: 0.3526 - accuracy: 0.8704 - val_loss: 0.4883 - val_accuracy: 0.9167\n",
            "Epoch 69/100\n",
            "4/4 [==============================] - 0s 22ms/step - loss: 0.3494 - accuracy: 0.8704 - val_loss: 0.4852 - val_accuracy: 0.9167\n",
            "Epoch 70/100\n",
            "4/4 [==============================] - 0s 21ms/step - loss: 0.3461 - accuracy: 0.8704 - val_loss: 0.4817 - val_accuracy: 0.9167\n",
            "Epoch 71/100\n",
            "4/4 [==============================] - 0s 15ms/step - loss: 0.3434 - accuracy: 0.8704 - val_loss: 0.4794 - val_accuracy: 0.9167\n",
            "Epoch 72/100\n",
            "4/4 [==============================] - 0s 12ms/step - loss: 0.3401 - accuracy: 0.8981 - val_loss: 0.4762 - val_accuracy: 0.9167\n",
            "Epoch 73/100\n",
            "4/4 [==============================] - 0s 16ms/step - loss: 0.3372 - accuracy: 0.9074 - val_loss: 0.4732 - val_accuracy: 0.9167\n",
            "Epoch 74/100\n",
            "4/4 [==============================] - 0s 12ms/step - loss: 0.3343 - accuracy: 0.9074 - val_loss: 0.4704 - val_accuracy: 0.9167\n",
            "Epoch 75/100\n",
            "4/4 [==============================] - 0s 12ms/step - loss: 0.3316 - accuracy: 0.9074 - val_loss: 0.4673 - val_accuracy: 0.9167\n",
            "Epoch 76/100\n",
            "4/4 [==============================] - 0s 12ms/step - loss: 0.3291 - accuracy: 0.9074 - val_loss: 0.4642 - val_accuracy: 0.9167\n",
            "Epoch 77/100\n",
            "4/4 [==============================] - 0s 12ms/step - loss: 0.3260 - accuracy: 0.9074 - val_loss: 0.4614 - val_accuracy: 0.9167\n",
            "Epoch 78/100\n",
            "4/4 [==============================] - 0s 12ms/step - loss: 0.3233 - accuracy: 0.9074 - val_loss: 0.4587 - val_accuracy: 0.9167\n",
            "Epoch 79/100\n",
            "4/4 [==============================] - 0s 12ms/step - loss: 0.3205 - accuracy: 0.9074 - val_loss: 0.4559 - val_accuracy: 0.9167\n",
            "Epoch 80/100\n",
            "4/4 [==============================] - 0s 14ms/step - loss: 0.3181 - accuracy: 0.9074 - val_loss: 0.4542 - val_accuracy: 0.9167\n",
            "Epoch 81/100\n",
            "4/4 [==============================] - 0s 13ms/step - loss: 0.3158 - accuracy: 0.9074 - val_loss: 0.4532 - val_accuracy: 0.9167\n",
            "Epoch 82/100\n",
            "4/4 [==============================] - 0s 13ms/step - loss: 0.3129 - accuracy: 0.9074 - val_loss: 0.4506 - val_accuracy: 0.9167\n",
            "Epoch 83/100\n",
            "4/4 [==============================] - 0s 12ms/step - loss: 0.3104 - accuracy: 0.9074 - val_loss: 0.4472 - val_accuracy: 0.9167\n",
            "Epoch 84/100\n",
            "4/4 [==============================] - 0s 19ms/step - loss: 0.3080 - accuracy: 0.9167 - val_loss: 0.4443 - val_accuracy: 0.9167\n",
            "Epoch 85/100\n",
            "4/4 [==============================] - 0s 13ms/step - loss: 0.3058 - accuracy: 0.9167 - val_loss: 0.4432 - val_accuracy: 0.9167\n",
            "Epoch 86/100\n",
            "4/4 [==============================] - 0s 14ms/step - loss: 0.3039 - accuracy: 0.9074 - val_loss: 0.4407 - val_accuracy: 0.9167\n",
            "Epoch 87/100\n",
            "4/4 [==============================] - 0s 13ms/step - loss: 0.3011 - accuracy: 0.9074 - val_loss: 0.4379 - val_accuracy: 0.9167\n",
            "Epoch 88/100\n",
            "4/4 [==============================] - 0s 22ms/step - loss: 0.2990 - accuracy: 0.9074 - val_loss: 0.4360 - val_accuracy: 0.9167\n",
            "Epoch 89/100\n",
            "4/4 [==============================] - 0s 21ms/step - loss: 0.2969 - accuracy: 0.9074 - val_loss: 0.4332 - val_accuracy: 0.9167\n",
            "Epoch 90/100\n",
            "4/4 [==============================] - 0s 21ms/step - loss: 0.2947 - accuracy: 0.9074 - val_loss: 0.4313 - val_accuracy: 0.9167\n",
            "Epoch 91/100\n",
            "4/4 [==============================] - 0s 21ms/step - loss: 0.2925 - accuracy: 0.9074 - val_loss: 0.4295 - val_accuracy: 0.9167\n",
            "Epoch 92/100\n",
            "4/4 [==============================] - 0s 19ms/step - loss: 0.2907 - accuracy: 0.9167 - val_loss: 0.4271 - val_accuracy: 0.9167\n",
            "Epoch 93/100\n",
            "4/4 [==============================] - 0s 14ms/step - loss: 0.2883 - accuracy: 0.9074 - val_loss: 0.4244 - val_accuracy: 0.9167\n",
            "Epoch 94/100\n",
            "4/4 [==============================] - 0s 19ms/step - loss: 0.2865 - accuracy: 0.9074 - val_loss: 0.4216 - val_accuracy: 0.9167\n",
            "Epoch 95/100\n",
            "4/4 [==============================] - 0s 12ms/step - loss: 0.2844 - accuracy: 0.9074 - val_loss: 0.4191 - val_accuracy: 0.9167\n",
            "Epoch 96/100\n",
            "4/4 [==============================] - 0s 12ms/step - loss: 0.2833 - accuracy: 0.9074 - val_loss: 0.4156 - val_accuracy: 0.9167\n",
            "Epoch 97/100\n",
            "4/4 [==============================] - 0s 12ms/step - loss: 0.2812 - accuracy: 0.9074 - val_loss: 0.4142 - val_accuracy: 0.9167\n",
            "Epoch 98/100\n",
            "4/4 [==============================] - 0s 19ms/step - loss: 0.2786 - accuracy: 0.9167 - val_loss: 0.4121 - val_accuracy: 0.9167\n",
            "Epoch 99/100\n",
            "4/4 [==============================] - 0s 12ms/step - loss: 0.2770 - accuracy: 0.9167 - val_loss: 0.4110 - val_accuracy: 0.9167\n",
            "Epoch 100/100\n",
            "4/4 [==============================] - 0s 18ms/step - loss: 0.2754 - accuracy: 0.9167 - val_loss: 0.4095 - val_accuracy: 0.9167\n"
          ]
        }
      ]
    },
    {
      "cell_type": "code",
      "source": [],
      "metadata": {
        "id": "033232dxNq-B"
      },
      "execution_count": null,
      "outputs": []
    },
    {
      "cell_type": "code",
      "source": [
        "import matplotlib.pyplot as plt\n",
        "import numpy as np\n",
        "\n",
        "plt.plot(history.history['accuracy'],label='train')\n",
        "plt.plot(history.history['val_accuracy'],label='Validation')\n",
        "plt.xticks(np.arange(100))\n",
        "plt.legend()\n",
        "plt.show()"
      ],
      "metadata": {
        "colab": {
          "base_uri": "https://localhost:8080/",
          "height": 430
        },
        "id": "9L7eL968NsZr",
        "outputId": "2d1570c0-c1e5-4045-9d6e-9f8d3d9ad85e"
      },
      "execution_count": null,
      "outputs": [
        {
          "output_type": "display_data",
          "data": {
            "text/plain": [
              "<Figure size 640x480 with 1 Axes>"
            ],
            "image/png": "[encoded data removed]"
          },
          "metadata": {}
        }
      ]
    },
    {
      "cell_type": "code",
      "source": [],
      "metadata": {
        "id": "cPOvd4IiNuQF"
      },
      "execution_count": null,
      "outputs": []
    }
  ]
}